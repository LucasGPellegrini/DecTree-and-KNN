{
 "cells": [
  {
   "cell_type": "markdown",
   "id": "7e7c517b-c087-4afc-b1e0-17ed707ee86e",
   "metadata": {},
   "source": [
    "# **SEGUNDO TRABALHO DE INTELIGÊNCIA ARTIFICIAL**\n",
    "## Faculdade de Computação - UFU\n",
    "### 20/11/2023\n",
    "\n",
    "<br/>\n",
    "\n",
    "#### Bruno Sinhoroto\n",
    "#### Lucas Pellegrini\n",
    "#### Silvano Junior"
   ]
  },
  {
   "cell_type": "markdown",
   "id": "d9857da7-dcc7-4f66-8701-e44259a378e1",
   "metadata": {},
   "source": [
    "# Importação das Bibliotecas"
   ]
  },
  {
   "cell_type": "code",
   "execution_count": 2,
   "id": "0ecef12a-7f75-4502-98eb-914b26a6dd63",
   "metadata": {},
   "outputs": [],
   "source": [
    "import pandas as pd\n",
    "import numpy as np\n",
    "\n",
    "from sklearn.tree import DecisionTreeClassifier\n",
    "#from sklearn.model_selection import train_test_split\n",
    "from sklearn import metrics\n",
    "from sklearn.neighbors import KNeighborsClassifier\n",
    "from sklearn.datasets import load_iris"
   ]
  },
  {
   "cell_type": "markdown",
   "id": "48e3f973-ddda-48d2-8eef-7e81b028e525",
   "metadata": {},
   "source": [
    "# Divisão da base de dados"
   ]
  },
  {
   "cell_type": "code",
   "execution_count": 3,
   "id": "ae377af8-fae8-4630-8203-6ba3d0a4fc3f",
   "metadata": {},
   "outputs": [],
   "source": [
    "iris = load_iris()\n",
    "\n",
    "# Segmento A\n",
    "\n",
    "# Segmento B\n",
    "\n",
    "# Segmento C\n"
   ]
  },
  {
   "cell_type": "code",
   "execution_count": null,
   "id": "a9615c81-bffc-4cd6-ba90-17cc03f17484",
   "metadata": {},
   "outputs": [],
   "source": []
  }
 ],
 "metadata": {
  "kernelspec": {
   "display_name": "Python 3 (ipykernel)",
   "language": "python",
   "name": "python3"
  },
  "language_info": {
   "codemirror_mode": {
    "name": "ipython",
    "version": 3
   },
   "file_extension": ".py",
   "mimetype": "text/x-python",
   "name": "python",
   "nbconvert_exporter": "python",
   "pygments_lexer": "ipython3",
   "version": "3.11.5"
  }
 },
 "nbformat": 4,
 "nbformat_minor": 5
}
