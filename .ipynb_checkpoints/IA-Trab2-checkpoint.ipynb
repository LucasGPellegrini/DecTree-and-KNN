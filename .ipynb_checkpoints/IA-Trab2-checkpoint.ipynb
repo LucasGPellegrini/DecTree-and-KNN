{
 "cells": [
  {
   "cell_type": "markdown",
   "id": "7e7c517b-c087-4afc-b1e0-17ed707ee86e",
   "metadata": {},
   "source": [
    "# **SEGUNDO TRABALHO DE INTELIGÊNCIA ARTIFICIAL**\n",
    "## Faculdade de Computação - UFU\n",
    "### 20/11/2023\n",
    "\n",
    "<br/>\n",
    "\n",
    "#### Bruno Sinhoroto\n",
    "#### Lucas Pellegrini\n",
    "#### Silvano Junior"
   ]
  },
  {
   "cell_type": "markdown",
   "id": "d9857da7-dcc7-4f66-8701-e44259a378e1",
   "metadata": {},
   "source": [
    "# Importação das Bibliotecas"
   ]
  },
  {
   "cell_type": "code",
   "execution_count": 1,
   "id": "0ecef12a-7f75-4502-98eb-914b26a6dd63",
   "metadata": {},
   "outputs": [],
   "source": [
    "import pandas as pd\n",
    "import numpy as np\n",
    "import matplotlib.pyplot as plt\n",
    "\n",
    "from sklearn.tree import DecisionTreeClassifier\n",
    "#from sklearn.model_selection import train_test_split\n",
    "from sklearn import metrics\n",
    "from sklearn.neighbors import KNeighborsClassifier\n",
    "from sklearn.datasets import load_iris"
   ]
  },
  {
   "cell_type": "markdown",
   "id": "48e3f973-ddda-48d2-8eef-7e81b028e525",
   "metadata": {},
   "source": [
    "# Instanciação e divisão da base de dados"
   ]
  },
  {
   "cell_type": "code",
   "execution_count": 2,
   "id": "ae377af8-fae8-4630-8203-6ba3d0a4fc3f",
   "metadata": {},
   "outputs": [],
   "source": [
    "class IrisDB():\n",
    "    XA : list[list[float]] = []\n",
    "    YA : list[str] = []\n",
    "    XB : list[list[float]] = []\n",
    "    YB : list[str] = []\n",
    "    XC : list[list[float]] = []\n",
    "    YC : list[str] = []\n",
    "\n",
    "    def __init__(self) -> None:\n",
    "        self.db = load_iris()\n",
    "\n",
    "        # Divisão A/B/C\n",
    "        for k in range(0, 149, 3):\n",
    "            self.XA.append(self.db['data'][k])\n",
    "            self.YA.append(self.db['target'][k])\n",
    "            \n",
    "            self.XB.append(self.db['data'][k+1])\n",
    "            self.YB.append(self.db['target'][k+1])\n",
    "            \n",
    "            self.XC.append(self.db['data'][k+2])\n",
    "            self.YC.append(self.db['target'][k+2])\n",
    "\n",
    "        \n",
    "        self.indice = self.db['feature_names']\n",
    "        self.metas = self.db['target_names']\n",
    "            \n",
    "        \n",
    "\n",
    "iris = IrisDB()"
   ]
  },
  {
   "cell_type": "markdown",
   "id": "bf3d18c7-18c6-4040-8fca-25780ad62001",
   "metadata": {},
   "source": [
    "## Verificação da uniformidade da distribuição A/B/C"
   ]
  },
  {
   "cell_type": "code",
   "execution_count": 3,
   "id": "c283a38b-29ea-44c5-9cf6-7b969a067173",
   "metadata": {},
   "outputs": [
    {
     "data": {
      "image/png": "[encoded data removed]",
      "text/plain": [
       "<Figure size 800x400 with 1 Axes>"
      ]
     },
     "metadata": {},
     "output_type": "display_data"
    }
   ],
   "source": [
    "# set width of bar \n",
    "barWidth = 0.20\n",
    "fig = plt.subplots(figsize =(8, 4)) \n",
    " \n",
    "# Set position of bar on X axis \n",
    "br1 = np.arange(3) \n",
    "br2 = [x + barWidth for x in br1] \n",
    "br3 = [x + barWidth for x in br2] \n",
    " \n",
    "# Make the plot\n",
    "plt.bar(br1, [iris.YA.count(0), iris.YB.count(0), iris.YC.count(0)], color ='r', width = barWidth, \n",
    "        edgecolor ='grey', label ='setosa') \n",
    "plt.bar(br2, [iris.YA.count(1), iris.YB.count(1), iris.YC.count(1)], color ='g', width = barWidth, \n",
    "        edgecolor ='grey', label ='versicolor') \n",
    "plt.bar(br3, [iris.YA.count(2), iris.YB.count(2), iris.YC.count(2)], color ='b', width = barWidth, \n",
    "        edgecolor ='grey', label ='virginica') \n",
    " \n",
    "# Adding Xticks \n",
    "plt.xlabel('Segmento', fontweight ='bold', fontsize = 14) \n",
    "plt.ylabel('Quantidade de amostras', fontweight ='bold', fontsize = 12) \n",
    "plt.xticks([r + barWidth for r in range(3)], \n",
    "        ['A', 'B', 'C'])\n",
    "plt.yticks([1, 3, 5, 7, 9, 11, 13, 15, 17, 19, 21, 23, 25])\n",
    " \n",
    "plt.legend()\n",
    "plt.show() "
   ]
  },
  {
   "cell_type": "markdown",
   "id": "8b99b0b0-77a5-4ba1-bf33-0b5fb0c433c0",
   "metadata": {},
   "source": [
    "---"
   ]
  },
  {
   "cell_type": "markdown",
   "id": "59a976dc-fb92-4ba2-baf8-d37b86042459",
   "metadata": {},
   "source": [
    "# **Árvore de Decisão**"
   ]
  },
  {
   "cell_type": "markdown",
   "id": "19a5769e-4a9b-41b2-bebb-66d4f872b39e",
   "metadata": {},
   "source": [
    "## Primeiro: Treinamento (A+B) e Teste (C)"
   ]
  },
  {
   "cell_type": "code",
   "execution_count": null,
   "id": "05432723-e00d-4b66-a64b-c8fa1f6d8a7e",
   "metadata": {},
   "outputs": [],
   "source": [
    "clf1 = DecisionTreeClassifier()\n",
    "\n",
    "clf1 = clf1.fit(iris.XA+iris.XB, iris.YA+iris.YB)\n",
    "\n",
    "YC_pred = clf1.predict(iris.XC)"
   ]
  },
  {
   "cell_type": "markdown",
   "id": "4032cd3f-11a1-423c-9706-29c2fffbd8a7",
   "metadata": {},
   "source": [
    "### Métricas"
   ]
  },
  {
   "cell_type": "code",
   "execution_count": null,
   "id": "75dfa61c-bd8e-473a-8adb-f0b9bf395562",
   "metadata": {},
   "outputs": [],
   "source": []
  },
  {
   "cell_type": "markdown",
   "id": "794a3a42-d3d8-4544-b812-7fa95b6dd863",
   "metadata": {},
   "source": [
    "### Estrutura da Árvore"
   ]
  },
  {
   "cell_type": "code",
   "execution_count": null,
   "id": "e66d7d4c-8cd3-4317-b2b8-0be8176905a7",
   "metadata": {},
   "outputs": [],
   "source": []
  },
  {
   "cell_type": "markdown",
   "id": "6efb9ff8-0852-4f68-b940-f66fd443be66",
   "metadata": {},
   "source": [
    "<br/>"
   ]
  },
  {
   "cell_type": "markdown",
   "id": "5dc3affa-3cc1-46e0-97a2-7e67ad7e88c9",
   "metadata": {},
   "source": [
    "## Segundo: Treinamento (A+C) e Teste (B)"
   ]
  },
  {
   "cell_type": "code",
   "execution_count": null,
   "id": "1e9268be-7fb9-4268-a0c1-a14b80ee181b",
   "metadata": {},
   "outputs": [],
   "source": [
    "clf2 = DecisionTreeClassifier()\n",
    "\n",
    "clf2 = clf2.fit(iris.XA+iris.XC, iris.YA+iris.YC)\n",
    "\n",
    "YB_pred = clf2.predict(iris.XB)"
   ]
  },
  {
   "cell_type": "markdown",
   "id": "c8f42baa-9a67-46ce-89f4-8c19baa3e3dd",
   "metadata": {},
   "source": [
    "### Métricas"
   ]
  },
  {
   "cell_type": "code",
   "execution_count": null,
   "id": "594c2c8b-0049-44cf-8357-e815393195a2",
   "metadata": {},
   "outputs": [],
   "source": []
  },
  {
   "cell_type": "markdown",
   "id": "3369bf94-958e-4743-9680-e592013919cc",
   "metadata": {},
   "source": [
    "### Estrutura da Árvore"
   ]
  },
  {
   "cell_type": "code",
   "execution_count": null,
   "id": "9d3cddb9-84d3-40f1-8858-3455a86c11b2",
   "metadata": {},
   "outputs": [],
   "source": []
  },
  {
   "cell_type": "markdown",
   "id": "cbaeaccd-1eea-4a04-af4e-61442a8bb18c",
   "metadata": {},
   "source": [
    "<br/>"
   ]
  },
  {
   "cell_type": "markdown",
   "id": "d9f1bcfb-6217-49fc-ade9-4d767a72e52c",
   "metadata": {},
   "source": [
    "## Terceiro: Treinamento (C+B) e Teste (A)"
   ]
  },
  {
   "cell_type": "code",
   "execution_count": null,
   "id": "4c14667f-1d78-4e9e-befe-417dcbf1c3d3",
   "metadata": {},
   "outputs": [],
   "source": [
    "clf3 = DecisionTreeClassifier()\n",
    "\n",
    "clf3 = clf3.fit(iris.XC+iris.XB, iris.YC+iris.YB)\n",
    "\n",
    "YA_pred = clf3.predict(iris.XA)"
   ]
  },
  {
   "cell_type": "markdown",
   "id": "1e058fa1-9f2d-42d4-a941-b7a08951ec96",
   "metadata": {},
   "source": [
    "### Métricas"
   ]
  },
  {
   "cell_type": "code",
   "execution_count": null,
   "id": "368d5f5f-34b3-4b5b-9d62-bcced2db18c3",
   "metadata": {},
   "outputs": [],
   "source": []
  },
  {
   "cell_type": "markdown",
   "id": "6d72e597-d485-4d3e-a490-ac24f4ccd170",
   "metadata": {},
   "source": [
    "### Estrutura da Árvore"
   ]
  },
  {
   "cell_type": "code",
   "execution_count": null,
   "id": "789b7f06-7901-4b22-a243-3f3c41f972c9",
   "metadata": {},
   "outputs": [],
   "source": []
  }
 ],
 "metadata": {
  "kernelspec": {
   "display_name": "Python 3 (ipykernel)",
   "language": "python",
   "name": "python3"
  },
  "language_info": {
   "codemirror_mode": {
    "name": "ipython",
    "version": 3
   },
   "file_extension": ".py",
   "mimetype": "text/x-python",
   "name": "python",
   "nbconvert_exporter": "python",
   "pygments_lexer": "ipython3",
   "version": "3.11.5"
  }
 },
 "nbformat": 4,
 "nbformat_minor": 5
}
